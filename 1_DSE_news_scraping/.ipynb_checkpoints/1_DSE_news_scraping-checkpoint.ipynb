{
 "cells": [
  {
   "cell_type": "markdown",
   "metadata": {
    "id": "dNKGSmGfzAYn"
   },
   "source": [
    "### Installation of the module"
   ]
  },
  {
   "cell_type": "code",
   "execution_count": null,
   "metadata": {
    "colab": {
     "background_save": true,
     "base_uri": "https://localhost:8080/"
    },
    "executionInfo": {
     "elapsed": 6747,
     "status": "ok",
     "timestamp": 1662657644102,
     "user": {
      "displayName": "Afia Nahian Chowdhury",
      "userId": "15295806983114495880"
     },
     "user_tz": -360
    },
    "id": "sNZ-QbcPHSnW",
    "outputId": "25f2d8bb-5715-4d1b-a24b-cb26fa99f95d"
   },
   "outputs": [
    {
     "name": "stdout",
     "output_type": "stream",
     "text": [
      "Looking in indexes: https://pypi.org/simple, https://us-python.pkg.dev/colab-wheels/public/simple/\n",
      "Collecting requests-html\n",
      "  Downloading requests_html-0.10.0-py3-none-any.whl (13 kB)\n",
      "Collecting pyquery\n",
      "  Downloading pyquery-1.4.3-py3-none-any.whl (22 kB)\n",
      "Collecting parse\n",
      "  Downloading parse-1.19.0.tar.gz (30 kB)\n",
      "Requirement already satisfied: requests in /usr/local/lib/python3.7/dist-packages (from requests-html) (2.23.0)\n",
      "Collecting w3lib\n",
      "  Downloading w3lib-2.0.1-py3-none-any.whl (20 kB)\n",
      "Collecting pyppeteer>=0.0.14\n",
      "  Downloading pyppeteer-1.0.2-py3-none-any.whl (83 kB)\n",
      "\u001b[K     |████████████████████████████████| 83 kB 1.7 MB/s \n",
      "\u001b[?25hRequirement already satisfied: bs4 in /usr/local/lib/python3.7/dist-packages (from requests-html) (0.0.1)\n",
      "Collecting fake-useragent\n",
      "  Downloading fake-useragent-0.1.11.tar.gz (13 kB)\n",
      "Requirement already satisfied: appdirs<2.0.0,>=1.4.3 in /usr/local/lib/python3.7/dist-packages (from pyppeteer>=0.0.14->requests-html) (1.4.4)\n",
      "Requirement already satisfied: certifi>=2021 in /usr/local/lib/python3.7/dist-packages (from pyppeteer>=0.0.14->requests-html) (2022.6.15)\n",
      "Collecting pyee<9.0.0,>=8.1.0\n",
      "  Downloading pyee-8.2.2-py2.py3-none-any.whl (12 kB)\n",
      "Collecting websockets<11.0,>=10.0\n",
      "  Downloading websockets-10.3-cp37-cp37m-manylinux_2_5_x86_64.manylinux1_x86_64.manylinux_2_12_x86_64.manylinux2010_x86_64.whl (112 kB)\n",
      "\u001b[K     |████████████████████████████████| 112 kB 66.3 MB/s \n",
      "\u001b[?25hRequirement already satisfied: importlib-metadata>=1.4 in /usr/local/lib/python3.7/dist-packages (from pyppeteer>=0.0.14->requests-html) (4.12.0)\n",
      "Collecting urllib3<2.0.0,>=1.25.8\n",
      "  Downloading urllib3-1.26.12-py2.py3-none-any.whl (140 kB)\n",
      "\u001b[K     |████████████████████████████████| 140 kB 74.0 MB/s \n",
      "\u001b[?25hRequirement already satisfied: tqdm<5.0.0,>=4.42.1 in /usr/local/lib/python3.7/dist-packages (from pyppeteer>=0.0.14->requests-html) (4.64.0)\n",
      "Requirement already satisfied: typing-extensions>=3.6.4 in /usr/local/lib/python3.7/dist-packages (from importlib-metadata>=1.4->pyppeteer>=0.0.14->requests-html) (4.1.1)\n",
      "Requirement already satisfied: zipp>=0.5 in /usr/local/lib/python3.7/dist-packages (from importlib-metadata>=1.4->pyppeteer>=0.0.14->requests-html) (3.8.1)\n",
      "Requirement already satisfied: beautifulsoup4 in /usr/local/lib/python3.7/dist-packages (from bs4->requests-html) (4.6.3)\n",
      "Collecting cssselect>0.7.9\n",
      "  Downloading cssselect-1.1.0-py2.py3-none-any.whl (16 kB)\n",
      "Requirement already satisfied: lxml>=2.1 in /usr/local/lib/python3.7/dist-packages (from pyquery->requests-html) (4.9.1)\n",
      "Collecting urllib3<2.0.0,>=1.25.8\n",
      "  Downloading urllib3-1.25.11-py2.py3-none-any.whl (127 kB)\n",
      "\u001b[K     |████████████████████████████████| 127 kB 48.2 MB/s \n",
      "\u001b[?25hRequirement already satisfied: chardet<4,>=3.0.2 in /usr/local/lib/python3.7/dist-packages (from requests->requests-html) (3.0.4)\n",
      "Requirement already satisfied: idna<3,>=2.5 in /usr/local/lib/python3.7/dist-packages (from requests->requests-html) (2.10)\n",
      "Building wheels for collected packages: fake-useragent, parse\n",
      "  Building wheel for fake-useragent (setup.py) ... \u001b[?25l\u001b[?25hdone\n",
      "  Created wheel for fake-useragent: filename=fake_useragent-0.1.11-py3-none-any.whl size=13502 sha256=076587811eff82acb07a6daa380190ccdf8b31fc0a34bfe62b16f164e8e9af24\n",
      "  Stored in directory: /root/.cache/pip/wheels/ed/f7/62/50ab6c9a0b5567267ab76a9daa9d06315704209b2c5d032031\n",
      "  Building wheel for parse (setup.py) ... \u001b[?25l\u001b[?25hdone\n",
      "  Created wheel for parse: filename=parse-1.19.0-py3-none-any.whl size=24591 sha256=a910f115433ca8302253366ebbc113cb7d3937953978ff6031da65a07b423e38\n",
      "  Stored in directory: /root/.cache/pip/wheels/9c/aa/cc/f2228050ccb40f22144b073f15a2c84f11204f29fc0dce028e\n",
      "Successfully built fake-useragent parse\n",
      "Installing collected packages: websockets, urllib3, pyee, cssselect, w3lib, pyquery, pyppeteer, parse, fake-useragent, requests-html\n",
      "  Attempting uninstall: urllib3\n",
      "    Found existing installation: urllib3 1.24.3\n",
      "    Uninstalling urllib3-1.24.3:\n",
      "      Successfully uninstalled urllib3-1.24.3\n",
      "Successfully installed cssselect-1.1.0 fake-useragent-0.1.11 parse-1.19.0 pyee-8.2.2 pyppeteer-1.0.2 pyquery-1.4.3 requests-html-0.10.0 urllib3-1.25.11 w3lib-2.0.1 websockets-10.3\n"
     ]
    }
   ],
   "source": [
    "!pip install requests-html"
   ]
  },
  {
   "cell_type": "markdown",
   "metadata": {
    "id": "9_f-SO4nKCEF"
   },
   "source": [
    "##  Importing the libraries"
   ]
  },
  {
   "cell_type": "code",
   "execution_count": null,
   "metadata": {
    "id": "5iXBv5KmHeyH"
   },
   "outputs": [],
   "source": [
    "from requests_html import HTMLSession\n",
    "session = HTMLSession()"
   ]
  },
  {
   "cell_type": "code",
   "execution_count": null,
   "metadata": {
    "id": "O3WRRPcgHmJS"
   },
   "outputs": [],
   "source": [
    "import time"
   ]
  },
  {
   "cell_type": "markdown",
   "metadata": {
    "id": "2rmjof4UKPSY"
   },
   "source": [
    "## The function to gather yearly data"
   ]
  },
  {
   "cell_type": "code",
   "execution_count": null,
   "metadata": {
    "id": "R-feao2KHphh"
   },
   "outputs": [],
   "source": [
    "def generator_year_news(year,year_news):\n",
    "    url = f\"https://dsebd.org/old_news.php?startDate={year}-01-01&endDate={year}-12-31&criteria=4&archive=news\"\n",
    "    r = session.get(url)\n",
    "    dse_news= r.html.find(\".table-news\")[0].text\n",
    "    dse_news_list = dse_news.split('\\n')\n",
    "    trading_code = dse_news_list[1::8]\n",
    "    news_title = dse_news_list[3::8]\n",
    "    news = dse_news_list[5::8]\n",
    "    post_date = dse_news_list[7::8]\n",
    "    print(\"Number of news data: \")\n",
    "    print(f\"Number of data in Trading Code row : {len(trading_code)}\")\n",
    "    print(f\"Number of data in news  title row : {len(news_title)}\")\n",
    "    print(f\"Number of data in news row : {len(news)}\")\n",
    "    print(f\"Number of data in post date row : {len(post_date)}\")\n",
    "    with open(f\"{year_news}.txt\", \"w\") as f:\n",
    "        f.write(\"No , trading_code , news_title , news , post_date \\n\")\n",
    "        for i,a,b,c,d in zip(range(1,len(trading_code)+1),trading_code, news_title, news, post_date):\n",
    "            f.write(f\"{i},{a}, {b}, {c}, {d}\")\n",
    "            f.write(\"\\n\")"
   ]
  },
  {
   "cell_type": "markdown",
   "metadata": {
    "id": "x59lqycaKWit"
   },
   "source": [
    "## Data of Year 2020"
   ]
  },
  {
   "cell_type": "code",
   "execution_count": null,
   "metadata": {
    "colab": {
     "base_uri": "https://localhost:8080/"
    },
    "executionInfo": {
     "elapsed": 149159,
     "status": "ok",
     "timestamp": 1662740359484,
     "user": {
      "displayName": "Afia Nahian Chowdhury",
      "userId": "15295806983114495880"
     },
     "user_tz": -360
    },
    "id": "G7IoKxqqIBSQ",
    "outputId": "3fd03526-6486-4da0-d6a0-04333fd66650"
   },
   "outputs": [
    {
     "name": "stdout",
     "output_type": "stream",
     "text": [
      "Year 2020 news data :\n",
      "Number of news data: \n",
      "Number of data in Trading Code row : 6021\n",
      "Number of data in news  title row : 6021\n",
      "Number of data in news row : 6021\n",
      "Number of data in post date row : 6021\n",
      "Time required = 148.66521620750427 second\n"
     ]
    }
   ],
   "source": [
    "start = time.time()\n",
    "print(\"Year 2020 news data :\")\n",
    "generator_year_news(2020,\"news_2020\")\n",
    "end = time.time()\n",
    "print(f\"Time required = {end - start} second\")"
   ]
  },
  {
   "cell_type": "markdown",
   "metadata": {
    "id": "NylgVaxjKps_"
   },
   "source": [
    "## Data of Year 2021"
   ]
  },
  {
   "cell_type": "code",
   "execution_count": null,
   "metadata": {
    "colab": {
     "base_uri": "https://localhost:8080/"
    },
    "executionInfo": {
     "elapsed": 1766659,
     "status": "ok",
     "timestamp": 1662742176368,
     "user": {
      "displayName": "Afia Nahian Chowdhury",
      "userId": "15295806983114495880"
     },
     "user_tz": -360
    },
    "id": "E_MSjC01IeRz",
    "outputId": "1d8ae5cc-f46d-40b7-b6ae-353a6b79d48f"
   },
   "outputs": [
    {
     "name": "stdout",
     "output_type": "stream",
     "text": [
      "Year 2021 news data :\n",
      "Number of news data: \n",
      "Number of data in Trading Code row : 16038\n",
      "Number of data in news  title row : 16038\n",
      "Number of data in news row : 16038\n",
      "Number of data in post date row : 16038\n",
      "Time required = 1765.0655031204224 second\n"
     ]
    }
   ],
   "source": [
    "start = time.time()\n",
    "print(\"Year 2021 news data :\")\n",
    "generator_year_news(2021,\"news_2021\")\n",
    "end = time.time()\n",
    "print(f\"Time required = {end - start} second\")"
   ]
  },
  {
   "cell_type": "markdown",
   "metadata": {
    "id": "UbTwC0BzKvKJ"
   },
   "source": [
    "## Data of Year 2022"
   ]
  },
  {
   "cell_type": "code",
   "execution_count": null,
   "metadata": {
    "colab": {
     "base_uri": "https://localhost:8080/"
    },
    "executionInfo": {
     "elapsed": 677467,
     "status": "ok",
     "timestamp": 1662743583081,
     "user": {
      "displayName": "Afia Nahian Chowdhury",
      "userId": "15295806983114495880"
     },
     "user_tz": -360
    },
    "id": "lo7NaYrHInIr",
    "outputId": "d17f8e77-03eb-4309-e98e-208367965e83"
   },
   "outputs": [
    {
     "name": "stdout",
     "output_type": "stream",
     "text": [
      "Year 2022 news data :\n",
      "Number of news data: \n",
      "Number of data in Trading Code row : 10202\n",
      "Number of data in news  title row : 10202\n",
      "Number of data in news row : 10202\n",
      "Number of data in post date row : 10202\n",
      "Time required = 676.6596586704254 second\n"
     ]
    }
   ],
   "source": [
    "start = time.time()\n",
    "print(\"Year 2022 news data :\")\n",
    "generator_year_news(2022,\"news_2022\")\n",
    "end = time.time()\n",
    "print(f\"Time required = {end - start} second\")"
   ]
  }
 ],
 "metadata": {
  "colab": {
   "authorship_tag": "ABX9TyObK+5xH+yAfCcZIQXdwPFi",
   "collapsed_sections": [],
   "provenance": []
  },
  "kernelspec": {
   "display_name": "Python 3 (ipykernel)",
   "language": "python",
   "name": "python3"
  },
  "language_info": {
   "codemirror_mode": {
    "name": "ipython",
    "version": 3
   },
   "file_extension": ".py",
   "mimetype": "text/x-python",
   "name": "python",
   "nbconvert_exporter": "python",
   "pygments_lexer": "ipython3",
   "version": "3.9.7"
  }
 },
 "nbformat": 4,
 "nbformat_minor": 1
}
